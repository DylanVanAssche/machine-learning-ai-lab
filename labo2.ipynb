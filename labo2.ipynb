{
 "cells": [
  {
   "cell_type": "markdown",
   "metadata": {},
   "source": [
    "# Practice Session AI: Decision Tree <a class=\"tocSkip\">"
   ]
  },
  {
   "cell_type": "code",
   "execution_count": 1,
   "metadata": {},
   "outputs": [
    {
     "name": "stdout",
     "output_type": "stream",
     "text": [
      "Naam: Van Assche\n",
      "Voornaam: Dylan\n",
      "S-nummer: r0612882\n",
      "Richting: Master E-ICT: ICT\n"
     ]
    }
   ],
   "source": [
    "# vul in\n",
    "\n",
    "print(\"Naam:\", \"Van Assche\")\n",
    "print(\"Voornaam:\", \"Dylan\")\n",
    "print(\"S-nummer:\", \"r0612882\")\n",
    "print(\"Richting:\", \"Master E-ICT: ICT\")\n",
    "\n",
    "# druk <ctrl> + <enter>"
   ]
  },
  {
   "cell_type": "markdown",
   "metadata": {},
   "source": [
    "<img src=\"https://i.imgur.com/kTl5dQa.jpg\" alt=\"panda in tree\" width=500/>"
   ]
  },
  {
   "cell_type": "markdown",
   "metadata": {},
   "source": [
    "In deze labosessie gaan we zelf één van de *machine learning models* uit de vorige notebook implementeren, namelijk de *Decision Tree*. Net zoals in de vorige sessies levert de *Pandas* library hier de basisstructuren waarin de data wordt voorgesteld. Om de werking van het uitgewerkte algoritme te testen, zullen we dit evalueren op de vertrouwde wijn-dataset."
   ]
  },
  {
   "cell_type": "markdown",
   "metadata": {},
   "source": [
    "## Imports and Loading\n",
    "\n",
    "Om te veel herhaling te voorkomen, wordt de code voor deze stappen gewoon meegegeven. Net zoals vorige week gaan we werken met een ``ModelFrame`` uit Pandas_ML, omwille van de handige ``data`` (*features*) en ``target`` (*target*) accessoren."
   ]
  },
  {
   "cell_type": "code",
   "execution_count": 2,
   "metadata": {},
   "outputs": [],
   "source": [
    "import numpy as np\n",
    "import pandas as pd\n",
    "import pandas_ml as pdml\n",
    "\n",
    "from tqdm import tqdm        ## process bar tool (optional)"
   ]
  },
  {
   "cell_type": "code",
   "execution_count": 3,
   "metadata": {},
   "outputs": [],
   "source": [
    "col_names = ['type', 'alcohol', 'malic_acid', 'ash', 'alkalinity', 'magnesium', 'total_phenols', 'flavonoids', 'nonflavonoid_phenols', 'proanthocyanins', 'color_intensity', 'color_hue', 'OD280', 'proline']\n",
    "df = pd.read_csv(\"data/wine_orig.csv\", names=col_names)"
   ]
  },
  {
   "cell_type": "code",
   "execution_count": 4,
   "metadata": {},
   "outputs": [
    {
     "data": {
      "text/html": [
       "<div>\n",
       "<style scoped>\n",
       "    .dataframe tbody tr th:only-of-type {\n",
       "        vertical-align: middle;\n",
       "    }\n",
       "\n",
       "    .dataframe tbody tr th {\n",
       "        vertical-align: top;\n",
       "    }\n",
       "\n",
       "    .dataframe thead th {\n",
       "        text-align: right;\n",
       "    }\n",
       "</style>\n",
       "<table border=\"1\" class=\"dataframe\">\n",
       "  <thead>\n",
       "    <tr style=\"text-align: right;\">\n",
       "      <th></th>\n",
       "      <th>type</th>\n",
       "      <th>alcohol</th>\n",
       "      <th>malic_acid</th>\n",
       "      <th>ash</th>\n",
       "      <th>alkalinity</th>\n",
       "      <th>magnesium</th>\n",
       "      <th>total_phenols</th>\n",
       "      <th>flavonoids</th>\n",
       "      <th>nonflavonoid_phenols</th>\n",
       "      <th>proanthocyanins</th>\n",
       "      <th>color_intensity</th>\n",
       "      <th>color_hue</th>\n",
       "      <th>OD280</th>\n",
       "      <th>proline</th>\n",
       "    </tr>\n",
       "  </thead>\n",
       "  <tbody>\n",
       "    <tr>\n",
       "      <th>0</th>\n",
       "      <td>1</td>\n",
       "      <td>14.23</td>\n",
       "      <td>1.71</td>\n",
       "      <td>2.43</td>\n",
       "      <td>15.6</td>\n",
       "      <td>127</td>\n",
       "      <td>2.80</td>\n",
       "      <td>3.06</td>\n",
       "      <td>0.28</td>\n",
       "      <td>2.29</td>\n",
       "      <td>5.64</td>\n",
       "      <td>1.04</td>\n",
       "      <td>3.92</td>\n",
       "      <td>1065</td>\n",
       "    </tr>\n",
       "    <tr>\n",
       "      <th>1</th>\n",
       "      <td>1</td>\n",
       "      <td>13.20</td>\n",
       "      <td>1.78</td>\n",
       "      <td>2.14</td>\n",
       "      <td>11.2</td>\n",
       "      <td>100</td>\n",
       "      <td>2.65</td>\n",
       "      <td>2.76</td>\n",
       "      <td>0.26</td>\n",
       "      <td>1.28</td>\n",
       "      <td>4.38</td>\n",
       "      <td>1.05</td>\n",
       "      <td>3.40</td>\n",
       "      <td>1050</td>\n",
       "    </tr>\n",
       "    <tr>\n",
       "      <th>2</th>\n",
       "      <td>1</td>\n",
       "      <td>13.16</td>\n",
       "      <td>2.36</td>\n",
       "      <td>2.67</td>\n",
       "      <td>18.6</td>\n",
       "      <td>101</td>\n",
       "      <td>2.80</td>\n",
       "      <td>3.24</td>\n",
       "      <td>0.30</td>\n",
       "      <td>2.81</td>\n",
       "      <td>5.68</td>\n",
       "      <td>1.03</td>\n",
       "      <td>3.17</td>\n",
       "      <td>1185</td>\n",
       "    </tr>\n",
       "    <tr>\n",
       "      <th>3</th>\n",
       "      <td>1</td>\n",
       "      <td>14.37</td>\n",
       "      <td>1.95</td>\n",
       "      <td>2.50</td>\n",
       "      <td>16.8</td>\n",
       "      <td>113</td>\n",
       "      <td>3.85</td>\n",
       "      <td>3.49</td>\n",
       "      <td>0.24</td>\n",
       "      <td>2.18</td>\n",
       "      <td>7.80</td>\n",
       "      <td>0.86</td>\n",
       "      <td>3.45</td>\n",
       "      <td>1480</td>\n",
       "    </tr>\n",
       "    <tr>\n",
       "      <th>4</th>\n",
       "      <td>1</td>\n",
       "      <td>13.24</td>\n",
       "      <td>2.59</td>\n",
       "      <td>2.87</td>\n",
       "      <td>21.0</td>\n",
       "      <td>118</td>\n",
       "      <td>2.80</td>\n",
       "      <td>2.69</td>\n",
       "      <td>0.39</td>\n",
       "      <td>1.82</td>\n",
       "      <td>4.32</td>\n",
       "      <td>1.04</td>\n",
       "      <td>2.93</td>\n",
       "      <td>735</td>\n",
       "    </tr>\n",
       "  </tbody>\n",
       "</table>\n",
       "</div>"
      ],
      "text/plain": [
       "   type  alcohol  malic_acid   ash  alkalinity  magnesium  total_phenols  \\\n",
       "0     1    14.23        1.71  2.43        15.6        127           2.80   \n",
       "1     1    13.20        1.78  2.14        11.2        100           2.65   \n",
       "2     1    13.16        2.36  2.67        18.6        101           2.80   \n",
       "3     1    14.37        1.95  2.50        16.8        113           3.85   \n",
       "4     1    13.24        2.59  2.87        21.0        118           2.80   \n",
       "\n",
       "   flavonoids  nonflavonoid_phenols  proanthocyanins  color_intensity  \\\n",
       "0        3.06                  0.28             2.29             5.64   \n",
       "1        2.76                  0.26             1.28             4.38   \n",
       "2        3.24                  0.30             2.81             5.68   \n",
       "3        3.49                  0.24             2.18             7.80   \n",
       "4        2.69                  0.39             1.82             4.32   \n",
       "\n",
       "   color_hue  OD280  proline  \n",
       "0       1.04   3.92     1065  \n",
       "1       1.05   3.40     1050  \n",
       "2       1.03   3.17     1185  \n",
       "3       0.86   3.45     1480  \n",
       "4       1.04   2.93      735  "
      ]
     },
     "execution_count": 4,
     "metadata": {},
     "output_type": "execute_result"
    }
   ],
   "source": [
    "df.head()"
   ]
  },
  {
   "cell_type": "code",
   "execution_count": 5,
   "metadata": {},
   "outputs": [],
   "source": [
    "df_wine = pdml.ModelFrame(df, target='type')"
   ]
  },
  {
   "cell_type": "code",
   "execution_count": 6,
   "metadata": {},
   "outputs": [
    {
     "name": "stdout",
     "output_type": "stream",
     "text": [
      "Length of training set: 124 (0.6966292134831461% of the samples)\n",
      "Length of test set: 54 (0.30337078651685395% of the samples)\n"
     ]
    }
   ],
   "source": [
    "train_wine, test_wine = df_wine.model_selection.train_test_split(test_size=0.3, random_state=0)\n",
    "print(\"Length of training set: {} ({}% of the samples)\".format(len(train_wine), len(train_wine)/len(df_wine)))\n",
    "print(\"Length of test set: {} ({}% of the samples)\".format(len(test_wine), len(test_wine)/len(df_wine)))"
   ]
  },
  {
   "cell_type": "code",
   "execution_count": 7,
   "metadata": {},
   "outputs": [
    {
     "data": {
      "text/html": [
       "<div>\n",
       "<style scoped>\n",
       "    .dataframe tbody tr th:only-of-type {\n",
       "        vertical-align: middle;\n",
       "    }\n",
       "\n",
       "    .dataframe tbody tr th {\n",
       "        vertical-align: top;\n",
       "    }\n",
       "\n",
       "    .dataframe thead th {\n",
       "        text-align: right;\n",
       "    }\n",
       "</style>\n",
       "<table border=\"1\" class=\"dataframe\">\n",
       "  <thead>\n",
       "    <tr style=\"text-align: right;\">\n",
       "      <th></th>\n",
       "      <th>type</th>\n",
       "      <th>alcohol</th>\n",
       "      <th>malic_acid</th>\n",
       "      <th>ash</th>\n",
       "      <th>alkalinity</th>\n",
       "      <th>magnesium</th>\n",
       "      <th>total_phenols</th>\n",
       "      <th>flavonoids</th>\n",
       "      <th>nonflavonoid_phenols</th>\n",
       "      <th>proanthocyanins</th>\n",
       "      <th>color_intensity</th>\n",
       "      <th>color_hue</th>\n",
       "      <th>OD280</th>\n",
       "      <th>proline</th>\n",
       "    </tr>\n",
       "  </thead>\n",
       "  <tbody>\n",
       "    <tr>\n",
       "      <th>22</th>\n",
       "      <td>1</td>\n",
       "      <td>13.71</td>\n",
       "      <td>1.86</td>\n",
       "      <td>2.36</td>\n",
       "      <td>16.6</td>\n",
       "      <td>101.0</td>\n",
       "      <td>2.61</td>\n",
       "      <td>2.88</td>\n",
       "      <td>0.27</td>\n",
       "      <td>1.69</td>\n",
       "      <td>3.80</td>\n",
       "      <td>1.11</td>\n",
       "      <td>4.00</td>\n",
       "      <td>1035.0</td>\n",
       "    </tr>\n",
       "    <tr>\n",
       "      <th>108</th>\n",
       "      <td>2</td>\n",
       "      <td>12.22</td>\n",
       "      <td>1.29</td>\n",
       "      <td>1.94</td>\n",
       "      <td>19.0</td>\n",
       "      <td>92.0</td>\n",
       "      <td>2.36</td>\n",
       "      <td>2.04</td>\n",
       "      <td>0.39</td>\n",
       "      <td>2.08</td>\n",
       "      <td>2.70</td>\n",
       "      <td>0.86</td>\n",
       "      <td>3.02</td>\n",
       "      <td>312.0</td>\n",
       "    </tr>\n",
       "    <tr>\n",
       "      <th>175</th>\n",
       "      <td>3</td>\n",
       "      <td>13.27</td>\n",
       "      <td>4.28</td>\n",
       "      <td>2.26</td>\n",
       "      <td>20.0</td>\n",
       "      <td>120.0</td>\n",
       "      <td>1.59</td>\n",
       "      <td>0.69</td>\n",
       "      <td>0.43</td>\n",
       "      <td>1.35</td>\n",
       "      <td>10.20</td>\n",
       "      <td>0.59</td>\n",
       "      <td>1.56</td>\n",
       "      <td>835.0</td>\n",
       "    </tr>\n",
       "    <tr>\n",
       "      <th>145</th>\n",
       "      <td>3</td>\n",
       "      <td>13.16</td>\n",
       "      <td>3.57</td>\n",
       "      <td>2.15</td>\n",
       "      <td>21.0</td>\n",
       "      <td>102.0</td>\n",
       "      <td>1.50</td>\n",
       "      <td>0.55</td>\n",
       "      <td>0.43</td>\n",
       "      <td>1.30</td>\n",
       "      <td>4.00</td>\n",
       "      <td>0.60</td>\n",
       "      <td>1.68</td>\n",
       "      <td>830.0</td>\n",
       "    </tr>\n",
       "    <tr>\n",
       "      <th>71</th>\n",
       "      <td>2</td>\n",
       "      <td>13.86</td>\n",
       "      <td>1.51</td>\n",
       "      <td>2.67</td>\n",
       "      <td>25.0</td>\n",
       "      <td>86.0</td>\n",
       "      <td>2.95</td>\n",
       "      <td>2.86</td>\n",
       "      <td>0.21</td>\n",
       "      <td>1.87</td>\n",
       "      <td>3.38</td>\n",
       "      <td>1.36</td>\n",
       "      <td>3.16</td>\n",
       "      <td>410.0</td>\n",
       "    </tr>\n",
       "  </tbody>\n",
       "</table>\n",
       "</div>"
      ],
      "text/plain": [
       "     type  alcohol  malic_acid   ash  alkalinity  magnesium  total_phenols  \\\n",
       "22      1    13.71        1.86  2.36        16.6      101.0           2.61   \n",
       "108     2    12.22        1.29  1.94        19.0       92.0           2.36   \n",
       "175     3    13.27        4.28  2.26        20.0      120.0           1.59   \n",
       "145     3    13.16        3.57  2.15        21.0      102.0           1.50   \n",
       "71      2    13.86        1.51  2.67        25.0       86.0           2.95   \n",
       "\n",
       "     flavonoids  nonflavonoid_phenols  proanthocyanins  color_intensity  \\\n",
       "22         2.88                  0.27             1.69             3.80   \n",
       "108        2.04                  0.39             2.08             2.70   \n",
       "175        0.69                  0.43             1.35            10.20   \n",
       "145        0.55                  0.43             1.30             4.00   \n",
       "71         2.86                  0.21             1.87             3.38   \n",
       "\n",
       "     color_hue  OD280  proline  \n",
       "22        1.11   4.00   1035.0  \n",
       "108       0.86   3.02    312.0  \n",
       "175       0.59   1.56    835.0  \n",
       "145       0.60   1.68    830.0  \n",
       "71        1.36   3.16    410.0  "
      ]
     },
     "execution_count": 7,
     "metadata": {},
     "output_type": "execute_result"
    }
   ],
   "source": [
    "train_wine.head()"
   ]
  },
  {
   "cell_type": "markdown",
   "metadata": {},
   "source": [
    "## Building Blocks\n",
    "\n",
    "### Splitter"
   ]
  },
  {
   "cell_type": "markdown",
   "metadata": {},
   "source": [
    "Eerst en vooral is er een functie nodig die een ``ModelFrame`` opsplitst in twee delen op basis van de waarde van één van de *features*, en deze twee delen teruggeeft."
   ]
  },
  {
   "cell_type": "code",
   "execution_count": 8,
   "metadata": {},
   "outputs": [],
   "source": [
    "def split_on_attribute(df_node, attribute, value):\n",
    "    return (df_node.loc[df_node[attribute] < value], df_node.loc[df_node[attribute] >= value]) # Conventie\n",
    "    # Tuple teruggeven van de view, gesplitst op een bepaald attribuut"
   ]
  },
  {
   "cell_type": "markdown",
   "metadata": {},
   "source": [
    "### Cost function\n",
    "\n",
    "De split-functie gaat bij het opstellen van de tree opgeroepen worden wanneer er een *node* binair moet worden gesplitst. Uiteraard is het op voorhand nogal moeilijk te weten welke *feature* en bijbehorende *value* moeten gebruikt worden om tot een zo goed mogelijke split te komen waarbij de klassen zo volledig mogelijk van elkaar te scheiden. Om dit te testen maken we gebruik van enkele concepten uit de informatietheorie, waardoor we tot een *cost function* kunnen komen. "
   ]
  },
  {
   "cell_type": "markdown",
   "metadata": {},
   "source": [
    "#### Information Gain and Entropy\n",
    "\n",
    "*Information gain* is een manier om uit te drukken hoeveel onzekerheid er wordt verloren bij het opsplitsen van de data in een *node*. Deze onzekerheid wordt uitgedrukt in de vorm van *entropy* (eenheid: *bits*), beschreven in de onderstaande formule."
   ]
  },
  {
   "cell_type": "markdown",
   "metadata": {},
   "source": [
    "\\begin{equation*}\n",
    "H(X) = - \\sum \\limits_{i=1}^{n} p(x_i) \\log_2 p(x_i)\n",
    "\\end{equation*}"
   ]
  },
  {
   "cell_type": "markdown",
   "metadata": {},
   "source": [
    "Om de *information gain* tussen een *node* en zijn *children* te maximaliseren, is het voldoende om de split te kiezen waarbij de *entropy* van de *children* minimaal is."
   ]
  },
  {
   "cell_type": "code",
   "execution_count": 9,
   "metadata": {},
   "outputs": [],
   "source": [
    "def entropy(df_node):\n",
    "    # - SOM kans informatie voordoet * log2 van die kans\n",
    "    # Kans uit training set: welke klassen komt x % voor op de hele set\n",
    "    # print(train_wine.loc[train_wine['type']])\n",
    "    count_types = df_node['type'].value_counts()\n",
    "    all_types = df_node['type'].count()\n",
    "    chance = count_types/all_types\n",
    "    entrop = - sum(chance * np.log2(chance))\n",
    "    return entrop"
   ]
  },
  {
   "cell_type": "code",
   "execution_count": 10,
   "metadata": {},
   "outputs": [
    {
     "data": {
      "text/plain": [
       "1.5709478285303144"
      ]
     },
     "execution_count": 10,
     "metadata": {},
     "output_type": "execute_result"
    }
   ],
   "source": [
    "# test entropy\n",
    "entropy(train_wine)"
   ]
  },
  {
   "cell_type": "markdown",
   "metadata": {},
   "source": [
    "#### Gini Impurity\n",
    "\n",
    "Een andere manier om de split te optimaliseren is de *Gini impurity*. Deze is een maat voor de kans dat elementen van een bepaalde klasse in een *node* gemisclassificeerd worden. "
   ]
  },
  {
   "cell_type": "markdown",
   "metadata": {},
   "source": [
    "\\begin{equation*}\n",
    "I_G(X) = 1 - \\sum \\limits_{i=1}^{n} p(x_i)^2\n",
    "\\end{equation*}"
   ]
  },
  {
   "cell_type": "markdown",
   "metadata": {},
   "source": [
    "Uiteraard willen we dit aantal misclassificaties zo laag mogelijk houden, dus voor een zo goed mogelijke split hebben we graag een minimale *Gini impurity* bij de *children* van de *node*."
   ]
  },
  {
   "cell_type": "code",
   "execution_count": 11,
   "metadata": {},
   "outputs": [],
   "source": [
    "def gini_index(df_node):\n",
    "    count_types = df_node['type'].value_counts()\n",
    "    all_types = df_node['type'].count()\n",
    "    chance = count_types/all_types\n",
    "    gini = 1 - sum(chance ** 2)\n",
    "    return gini"
   ]
  },
  {
   "cell_type": "code",
   "execution_count": 12,
   "metadata": {},
   "outputs": [
    {
     "data": {
      "text/plain": [
       "0.6601196670135275"
      ]
     },
     "execution_count": 12,
     "metadata": {},
     "output_type": "execute_result"
    }
   ],
   "source": [
    "# test Gini impurity\n",
    "gini_index(train_wine)"
   ]
  },
  {
   "cell_type": "markdown",
   "metadata": {},
   "source": [
    "#### Weighted Cost\n",
    "\n",
    "Om de *costs* van de *children* van een *node* in één getal te kunnen weergeven, berekenen we het gewogen gemiddelde van de *splitting cost* voor zowel *entropy* als *Gini impurity* op de volgende manier:"
   ]
  },
  {
   "cell_type": "markdown",
   "metadata": {},
   "source": [
    "\\begin{equation*}\n",
    "\\overline{cost}(N, L, R) = P(L \\vert N) \\cdot cost(L) + P(R \\vert N) \\cdot cost(R)\n",
    "\\end{equation*}"
   ]
  },
  {
   "cell_type": "code",
   "execution_count": 13,
   "metadata": {},
   "outputs": [],
   "source": [
    "def weighted_cost(df_node, node_left, node_right, cost_func):\n",
    "    # totale cost = gewogen cost van elk deel van de split\n",
    "    # P(L/N) = aantal elementen node_left / totaal\n",
    "    # P(R/N) = aantal elementen node_right / totaal\n",
    "    # cost(L) en cost(R) oproepen via cost_func\n",
    "    PLN = len(node_left) / len(df_node)\n",
    "    PRN = len(node_right) / len(df_node)\n",
    "    return (PLN * cost_func(node_left) + PRN * cost_func(node_right))\n",
    "    "
   ]
  },
  {
   "cell_type": "code",
   "execution_count": 14,
   "metadata": {
    "code_folding": []
   },
   "outputs": [
    {
     "data": {
      "text/plain": [
       "1.4577427356053494"
      ]
     },
     "execution_count": 14,
     "metadata": {},
     "output_type": "execute_result"
    }
   ],
   "source": [
    "# test weighted cost with entropy\n",
    "weighted_cost(train_wine, *split_on_attribute(train_wine, 'alkalinity', 16), entropy)"
   ]
  },
  {
   "cell_type": "code",
   "execution_count": 15,
   "metadata": {},
   "outputs": [
    {
     "data": {
      "text/plain": [
       "0.6118637247669506"
      ]
     },
     "execution_count": 15,
     "metadata": {},
     "output_type": "execute_result"
    }
   ],
   "source": [
    "# test weighted cost with Gini impurity\n",
    "weighted_cost(train_wine, *split_on_attribute(train_wine, 'alkalinity', 16), gini_index)"
   ]
  },
  {
   "cell_type": "markdown",
   "metadata": {},
   "source": [
    "### Apply Split\n",
    "\n",
    "Nu hoeven we enkel nog een functie te schrijven die over alle waarden van alle *features* in de dataset gaat, hierbij de *cost* berekent, en vervolgens *feature* en waarde teruggeeft waarbij de *splitting cost* het laagste is. \n",
    "\n",
    "**Let op:** Op de ``target`` kolom mag **nooit** gesplitst worden!"
   ]
  },
  {
   "cell_type": "code",
   "execution_count": 16,
   "metadata": {},
   "outputs": [],
   "source": [
    "def find_best_split(df_node, cost_func):\n",
    "    lowest_cost = None\n",
    "    feature = None\n",
    "    feature_val = None\n",
    "    \n",
    "    # All features in a df\n",
    "    for feat in df_node:\n",
    "        \n",
    "        # Skip type = target column\n",
    "        if feat != 'type':\n",
    "            # Check every value of each feature\n",
    "            for value in df_node[feat].unique():\n",
    "                # Find weighted cost and check if it's the lowest cost\n",
    "                c = weighted_cost(df_node, *split_on_attribute(train_wine, feat, value), cost_func)\n",
    "                if lowest_cost is None or c < lowest_cost:\n",
    "                    feature, feature_val = feat, value\n",
    "                    lowest_cost = c\n",
    "\n",
    "    # Return our result\n",
    "    return (feature, feature_val)"
   ]
  },
  {
   "cell_type": "code",
   "execution_count": 17,
   "metadata": {},
   "outputs": [
    {
     "data": {
      "text/plain": [
       "('color_intensity', 3.84)"
      ]
     },
     "execution_count": 17,
     "metadata": {},
     "output_type": "execute_result"
    }
   ],
   "source": [
    "# test best split finder with entropy\n",
    "find_best_split(train_wine, gini_index)"
   ]
  },
  {
   "cell_type": "code",
   "execution_count": 18,
   "metadata": {},
   "outputs": [
    {
     "data": {
      "text/plain": [
       "('flavonoids', 1.58)"
      ]
     },
     "execution_count": 18,
     "metadata": {},
     "output_type": "execute_result"
    }
   ],
   "source": [
    "#test best split finder with Gini impurity\n",
    "find_best_split(train_wine, entropy)"
   ]
  },
  {
   "cell_type": "markdown",
   "metadata": {},
   "source": [
    "### Build Tree\n",
    "\n",
    "Met behulp van de ``find_best_split`` functie is het nu mogelijk om de *decision tree* recursief op te stellen. Het grootste deel van de functies en attributen van de ``TreeNode`` klasse zijn reeds gegeven, enkel de ``split`` functie (waar de recursie gebeurt) dient nog aangevuld te worden."
   ]
  },
  {
   "cell_type": "code",
   "execution_count": 19,
   "metadata": {
    "code_folding": []
   },
   "outputs": [],
   "source": [
    "class TreeNode(object):\n",
    "    \"\"\" \n",
    "    Forms the node of a decision tree.\n",
    "    \n",
    "    Args:\n",
    "        level: Level of the node in the tree.\n",
    "        df_node: ModelFrame containing the data of the node\n",
    "        cost_func: Function to calculate the splitting cost (entropy or gini_index).\n",
    "        max_depth: Maximum depth of the tree.\n",
    "        min_length: Minimum amount of elements that a node has to contain to be considered splittable.\n",
    "    \"\"\"\n",
    "    counter = 0\n",
    "    def __init__(self, level, df_node, cost_func, max_depth, min_length, **kwargs):\n",
    "        self._id = type(self).counter\n",
    "        type(self).counter += 1\n",
    "        self.level = level\n",
    "        self.df_node = df_node\n",
    "        self.cost_func = cost_func\n",
    "        self.max_depth = max_depth\n",
    "        self.min_length = min_length\n",
    "        self.cost = self.cost_func(self.df_node)\n",
    "        self.split_attr = None\n",
    "        self.split_value = None\n",
    "        self.left = None\n",
    "        self.right = None\n",
    "    \n",
    "    @property\n",
    "    def record_amt(self):\n",
    "        \"\"\" \n",
    "        Returns the amount of data elements in this node's ModelFrame.\n",
    "        \"\"\"\n",
    "        return len(self.df_node)\n",
    "    \n",
    "    @property\n",
    "    def has_children(self):\n",
    "        \"\"\" \n",
    "        Check if the node has any children.\n",
    "        \"\"\"\n",
    "        return self.left is not None and self.right is not None\n",
    "    \n",
    "    @property\n",
    "    def class_distribution(self):\n",
    "        \"\"\"\n",
    "        Gives a dict containing the classes as keys and the amount of elements per class as values.\n",
    "        \"\"\"\n",
    "        return self.df_node.target.value_counts().to_dict()\n",
    "    \n",
    "    @property\n",
    "    def category(self):\n",
    "        \"\"\"\n",
    "        Returns the dominant category of the elements in this node.\n",
    "        \"\"\"\n",
    "        return max(self.class_distribution, key=lambda key: self.class_distribution[key])\n",
    "    \n",
    "    def add_left(self, node):\n",
    "        \"\"\"\n",
    "        Add another node to this node as left child.\n",
    "        \"\"\"\n",
    "        self.left = node\n",
    "        \n",
    "    def add_right(self, node):\n",
    "        \"\"\"\n",
    "        Add another node to this node as right child.\n",
    "        \"\"\"\n",
    "        self.right = node\n",
    "        \n",
    "    def split(self):\n",
    "        \"\"\"\n",
    "        Split the node into two children.\n",
    "        \"\"\"\n",
    "        ###################\n",
    "        # Stop conditions #\n",
    "        ###################\n",
    "        \n",
    "        # Max depth level (avoid overfitting)\n",
    "        if self.max_depth == self.level:\n",
    "            print(\"Max depth of {} levels has been reached, stopping NOW.\".format(self.level))\n",
    "            return\n",
    "        # A node must have a certain amount of data to be usefull for splitting (avoid overfitting)\n",
    "        elif self.min_length >= self.df_node['type'].count():\n",
    "            print(\"Minimum size of a node reached, stopping NOW.\")\n",
    "            return\n",
    "        # If we only have one class left, splitting is useless\n",
    "        elif len(self.df_node['type'].unique()) == 1:\n",
    "            print(\"Only one class left, stopping NOW.\")\n",
    "            return\n",
    "        \n",
    "        ############################\n",
    "        # Split in all other cases #\n",
    "        ############################\n",
    "        \n",
    "        # Find best split\n",
    "        self.split_attr, self.split_value = find_best_split(self.df_node, self.cost_func)\n",
    "        left_data, right_data = split_on_attribute(self.df_node, self.split_attr, self.split_value)\n",
    "        print(\"Best split attribute: {} with value {}. LEVEL={}\".format(self.split_attr, self.split_value, self.level))\n",
    "               \n",
    "        # Create the left and right nodes from our split\n",
    "        # Only when the node has data, if only 1 item, the new node will stop anyway in self.left.split()\n",
    "        if right_data['type'].count() > 0:\n",
    "            r = TreeNode(self.level + 1, right_data, self.cost_func, self.max_depth, self.min_length)\n",
    "            self.add_right(r)\n",
    "            print(\"Right node created, splitting node...\")\n",
    "            self.right.split()\n",
    "        \n",
    "        # Only when the node has data, if only 1 item, the new node will stop anyway in self.left.split()\n",
    "        if left_data['type'].count() > 0:\n",
    "            l = TreeNode(self.level + 1, left_data, self.cost_func, self.max_depth, self.min_length)\n",
    "            self.add_left(l)\n",
    "            print(\"Left node created, splitting node...\")\n",
    "            self.left.split()"
   ]
  },
  {
   "cell_type": "code",
   "execution_count": 20,
   "metadata": {},
   "outputs": [],
   "source": [
    "def build_tree(train_set, cost_func, max_depth, min_size):\n",
    "    TreeNode.counter = 0\n",
    "    root = TreeNode(0, train_set, cost_func, max_depth, min_size)\n",
    "    root.split()\n",
    "    return root"
   ]
  },
  {
   "cell_type": "markdown",
   "metadata": {},
   "source": [
    "### Print Tree\n",
    "\n",
    "Om te kijken hoe het getrainde model eruit ziet, wordt er een (rudimentaire) functie meegegeven waarmee de boom recursief kan geprint worden. We moeten er wel voor zorgen dat de juiste velden op de juiste manier geupdated worden in de ``split`` functie van hierboven, anders krijgen we waarschijnlijk een foutboodschap."
   ]
  },
  {
   "cell_type": "code",
   "execution_count": 21,
   "metadata": {},
   "outputs": [],
   "source": [
    "def print_tree(node, sign='<'):\n",
    "    if node.has_children:\n",
    "        print(node._id, node.level * \"  \", \n",
    "              node.split_attr, sign, node.split_value, '---', \n",
    "              node.cost, '---', node.class_distribution, '---', node.category)\n",
    "    else:\n",
    "        print(node._id, node.level * \"  \", sign, \"---\", \n",
    "              node.cost, '---', node.class_distribution, '---', node.category)\n",
    "    if node.left is not None:\n",
    "        print_tree(node.left, sign=\"<\")\n",
    "    if node.right is not None:\n",
    "        print_tree(node.right, sign=\">=\")"
   ]
  },
  {
   "cell_type": "markdown",
   "metadata": {},
   "source": [
    "### Make Predictions\n",
    "\n",
    "Uiteraard willen we het model niet alleen maar kunnen gebruiken om de trainingsdata te omschrijven (*description*), maar ook om te voorspellen hoe nieuwe data met een ongekend label geclassificeerd wordt door de boom (*prediction*). Hiervoor maken we opnieuw gebruik van recursie: we vertrekken in de *root* en vergelijken ``split_attr`` en ``split_value`` met de testdata. Op basis van deze vergelijking gaan we verder in één van de twee *children* van de *node*, totdat we een *node* bereiken die geen *children* meer heeft. De ``category`` van deze *node* is dan de uitkomst van onze voorspelling."
   ]
  },
  {
   "cell_type": "code",
   "execution_count": 22,
   "metadata": {},
   "outputs": [],
   "source": [
    "def predict(data, node):\n",
    "    while 1:\n",
    "        # Check if the node is a leaf, in which case we found our category.\n",
    "        if not node.has_children:\n",
    "            return node.category\n",
    "        \n",
    "        # Check if we follow left, or right.\n",
    "        if data[node.split_attr] < node.split_value:\n",
    "            node = node.left\n",
    "        \n",
    "        else:\n",
    "            node = node.right\n",
    "                "
   ]
  },
  {
   "cell_type": "markdown",
   "metadata": {},
   "source": [
    "### Evaluate"
   ]
  },
  {
   "cell_type": "code",
   "execution_count": 23,
   "metadata": {},
   "outputs": [],
   "source": [
    "def evaluate(tree, test_set):\n",
    "    results = []\n",
    "    for row in test_wine.itertuples():\n",
    "        data = row._asdict()\n",
    "        results.append((data['type'], predict(data, tree)))\n",
    "    print([f\"{i}: {res[0]} {res[1]}\" for i, res in enumerate(results)])\n",
    "    return pd.DataFrame(results, columns=['target','predicted'])"
   ]
  },
  {
   "cell_type": "markdown",
   "metadata": {},
   "source": [
    "### Calculate Accuracy"
   ]
  },
  {
   "cell_type": "code",
   "execution_count": 24,
   "metadata": {},
   "outputs": [],
   "source": [
    "def accuracy(tree, test_set):\n",
    "    df_results = evaluate(tree, test_wine)\n",
    "    return (df_results.target == df_results.predicted).sum()/len(df_results)"
   ]
  },
  {
   "cell_type": "markdown",
   "metadata": {},
   "source": [
    "## Testing the Trees"
   ]
  },
  {
   "cell_type": "markdown",
   "metadata": {},
   "source": [
    "### Using Entropy"
   ]
  },
  {
   "cell_type": "code",
   "execution_count": 25,
   "metadata": {},
   "outputs": [
    {
     "name": "stdout",
     "output_type": "stream",
     "text": [
      "Best split attribute: flavonoids with value 1.58. LEVEL=0\n",
      "Right node created, splitting node...\n",
      "Best split attribute: flavonoids with value 1.58. LEVEL=1\n",
      "Right node created, splitting node...\n",
      "Best split attribute: flavonoids with value 1.58. LEVEL=2\n",
      "Right node created, splitting node...\n",
      "Best split attribute: flavonoids with value 1.58. LEVEL=3\n",
      "Right node created, splitting node...\n",
      "Best split attribute: flavonoids with value 1.58. LEVEL=4\n",
      "Right node created, splitting node...\n",
      "Best split attribute: flavonoids with value 1.58. LEVEL=5\n",
      "Right node created, splitting node...\n",
      "Best split attribute: flavonoids with value 1.58. LEVEL=6\n",
      "Right node created, splitting node...\n",
      "Best split attribute: flavonoids with value 1.58. LEVEL=7\n",
      "Right node created, splitting node...\n",
      "Max depth of 8 levels has been reached, stopping NOW.\n",
      "Left node created, splitting node...\n",
      "Best split attribute: OD280 with value 2.26. LEVEL=1\n",
      "Right node created, splitting node...\n",
      "Best split attribute: OD280 with value 2.26. LEVEL=2\n",
      "Right node created, splitting node...\n",
      "Best split attribute: OD280 with value 2.26. LEVEL=3\n",
      "Right node created, splitting node...\n",
      "Best split attribute: OD280 with value 2.26. LEVEL=4\n",
      "Right node created, splitting node...\n",
      "Best split attribute: OD280 with value 2.26. LEVEL=5\n",
      "Right node created, splitting node...\n",
      "Best split attribute: OD280 with value 2.26. LEVEL=6\n",
      "Right node created, splitting node...\n",
      "Best split attribute: OD280 with value 2.26. LEVEL=7\n",
      "Right node created, splitting node...\n",
      "Max depth of 8 levels has been reached, stopping NOW.\n",
      "Left node created, splitting node...\n",
      "Best split attribute: OD280 with value 2.12. LEVEL=2\n",
      "Right node created, splitting node...\n",
      "Best split attribute: OD280 with value 2.12. LEVEL=3\n",
      "Right node created, splitting node...\n",
      "Best split attribute: OD280 with value 2.12. LEVEL=4\n",
      "Right node created, splitting node...\n",
      "Best split attribute: OD280 with value 2.12. LEVEL=5\n",
      "Right node created, splitting node...\n",
      "Best split attribute: OD280 with value 2.12. LEVEL=6\n",
      "Right node created, splitting node...\n",
      "Best split attribute: OD280 with value 2.12. LEVEL=7\n",
      "Right node created, splitting node...\n",
      "Max depth of 8 levels has been reached, stopping NOW.\n",
      "Left node created, splitting node...\n",
      "Best split attribute: color_intensity with value 3.85. LEVEL=3\n",
      "Right node created, splitting node...\n",
      "Only one class left, stopping NOW.\n",
      "Left node created, splitting node...\n",
      "Only one class left, stopping NOW.\n",
      "0  flavonoids < 1.58 --- 1.5709478285303144 --- {2: 49, 1: 40, 3: 35} --- 2\n",
      "9    OD280 < 2.26 --- 0.730926377590601 --- {3: 35, 2: 9} --- 3\n",
      "17      OD280 < 2.12 --- 0.5524951143251111 --- {3: 34, 2: 5} --- 3\n",
      "24        color_intensity < 3.85 --- 0.41381685030363374 --- {3: 33, 2: 3} --- 3\n",
      "26          < --- -0.0 --- {2: 3} --- 2\n",
      "25          >= --- -0.0 --- {3: 33} --- 3\n",
      "18        >= --- 0.9182958340544896 --- {2: 2, 3: 1} --- 2\n",
      "19          >= --- 0.9182958340544896 --- {2: 2, 3: 1} --- 2\n",
      "20            >= --- 0.9182958340544896 --- {2: 2, 3: 1} --- 2\n",
      "21              >= --- 0.9182958340544896 --- {2: 2, 3: 1} --- 2\n",
      "22                >= --- 0.9182958340544896 --- {2: 2, 3: 1} --- 2\n",
      "23                  >= --- 0.9182958340544896 --- {2: 2, 3: 1} --- 2\n",
      "10      >= --- 0.7219280948873623 --- {2: 4, 3: 1} --- 2\n",
      "11        >= --- 0.7219280948873623 --- {2: 4, 3: 1} --- 2\n",
      "12          >= --- 0.7219280948873623 --- {2: 4, 3: 1} --- 2\n",
      "13            >= --- 0.7219280948873623 --- {2: 4, 3: 1} --- 2\n",
      "14              >= --- 0.7219280948873623 --- {2: 4, 3: 1} --- 2\n",
      "15                >= --- 0.7219280948873623 --- {2: 4, 3: 1} --- 2\n",
      "16                  >= --- 0.7219280948873623 --- {2: 4, 3: 1} --- 2\n",
      "1    >= --- 1.0 --- {2: 40, 1: 40} --- 2\n",
      "2      >= --- 1.0 --- {2: 40, 1: 40} --- 2\n",
      "3        >= --- 1.0 --- {2: 40, 1: 40} --- 2\n",
      "4          >= --- 1.0 --- {2: 40, 1: 40} --- 2\n",
      "5            >= --- 1.0 --- {2: 40, 1: 40} --- 2\n",
      "6              >= --- 1.0 --- {2: 40, 1: 40} --- 2\n",
      "7                >= --- 1.0 --- {2: 40, 1: 40} --- 2\n",
      "8                  >= --- 1.0 --- {2: 40, 1: 40} --- 2\n",
      "['0: 1 2', '1: 3 3', '2: 2 2', '3: 1 2', '4: 2 2', '5: 2 2', '6: 1 2', '7: 3 3', '8: 2 2', '9: 2 2', '10: 3 2', '11: 3 3', '12: 1 2', '13: 2 2', '14: 3 3', '15: 2 2', '16: 1 2', '17: 1 2', '18: 2 3', '19: 1 2', '20: 2 2', '21: 1 2', '22: 1 2', '23: 2 2', '24: 2 2', '25: 2 2', '26: 2 2', '27: 2 2', '28: 2 2', '29: 3 3', '30: 1 2', '31: 1 2', '32: 2 2', '33: 1 2', '34: 1 2', '35: 1 2', '36: 3 3', '37: 2 2', '38: 2 2', '39: 3 3', '40: 1 2', '41: 1 2', '42: 2 2', '43: 2 2', '44: 2 2', '45: 1 2', '46: 3 3', '47: 2 2', '48: 3 3', '49: 1 2', '50: 3 3', '51: 3 3', '52: 1 2', '53: 3 3']\n",
      "Accuracy: 0.611\n"
     ]
    }
   ],
   "source": [
    "tree_entropy = build_tree(train_wine, entropy, 8, 1)\n",
    "print_tree(tree_entropy)\n",
    "print(\"Accuracy: {:4.3f}\".format(accuracy(tree_entropy, test_wine)))"
   ]
  },
  {
   "cell_type": "markdown",
   "metadata": {},
   "source": [
    "### Using Gini Impurity"
   ]
  },
  {
   "cell_type": "code",
   "execution_count": 26,
   "metadata": {},
   "outputs": [
    {
     "name": "stdout",
     "output_type": "stream",
     "text": [
      "Best split attribute: color_intensity with value 3.84. LEVEL=0\n",
      "Right node created, splitting node...\n",
      "Best split attribute: color_intensity with value 3.84. LEVEL=1\n",
      "Right node created, splitting node...\n",
      "Best split attribute: color_intensity with value 3.84. LEVEL=2\n",
      "Right node created, splitting node...\n",
      "Best split attribute: color_intensity with value 3.84. LEVEL=3\n",
      "Right node created, splitting node...\n",
      "Best split attribute: color_intensity with value 3.84. LEVEL=4\n",
      "Right node created, splitting node...\n",
      "Best split attribute: color_intensity with value 3.84. LEVEL=5\n",
      "Right node created, splitting node...\n",
      "Best split attribute: color_intensity with value 3.84. LEVEL=6\n",
      "Right node created, splitting node...\n",
      "Best split attribute: color_intensity with value 3.84. LEVEL=7\n",
      "Right node created, splitting node...\n",
      "Max depth of 8 levels has been reached, stopping NOW.\n",
      "Left node created, splitting node...\n",
      "Best split attribute: color_intensity with value 3.58. LEVEL=1\n",
      "Right node created, splitting node...\n",
      "Best split attribute: color_intensity with value 3.58. LEVEL=2\n",
      "Right node created, splitting node...\n",
      "Best split attribute: color_intensity with value 3.58. LEVEL=3\n",
      "Right node created, splitting node...\n",
      "Best split attribute: color_intensity with value 3.58. LEVEL=4\n",
      "Right node created, splitting node...\n",
      "Best split attribute: color_intensity with value 3.58. LEVEL=5\n",
      "Right node created, splitting node...\n",
      "Best split attribute: color_intensity with value 3.58. LEVEL=6\n",
      "Right node created, splitting node...\n",
      "Best split attribute: color_intensity with value 3.58. LEVEL=7\n",
      "Right node created, splitting node...\n",
      "Max depth of 8 levels has been reached, stopping NOW.\n",
      "Left node created, splitting node...\n",
      "Only one class left, stopping NOW.\n",
      "0  color_intensity < 3.84 --- 0.6601196670135275 --- {2: 49, 1: 40, 3: 35} --- 2\n",
      "9    color_intensity < 3.58 --- 0.11951109099139878 --- {2: 44, 1: 3} --- 2\n",
      "17      < --- 0.0 --- {2: 40} --- 2\n",
      "10      >= --- 0.48979591836734704 --- {2: 4, 1: 3} --- 2\n",
      "11        >= --- 0.48979591836734704 --- {2: 4, 1: 3} --- 2\n",
      "12          >= --- 0.48979591836734704 --- {2: 4, 1: 3} --- 2\n",
      "13            >= --- 0.48979591836734704 --- {2: 4, 1: 3} --- 2\n",
      "14              >= --- 0.48979591836734704 --- {2: 4, 1: 3} --- 2\n",
      "15                >= --- 0.48979591836734704 --- {2: 4, 1: 3} --- 2\n",
      "16                  >= --- 0.48979591836734704 --- {2: 4, 1: 3} --- 2\n",
      "1    >= --- 0.5582728959352337 --- {1: 37, 3: 35, 2: 5} --- 1\n",
      "2      >= --- 0.5582728959352337 --- {1: 37, 3: 35, 2: 5} --- 1\n",
      "3        >= --- 0.5582728959352337 --- {1: 37, 3: 35, 2: 5} --- 1\n",
      "4          >= --- 0.5582728959352337 --- {1: 37, 3: 35, 2: 5} --- 1\n",
      "5            >= --- 0.5582728959352337 --- {1: 37, 3: 35, 2: 5} --- 1\n",
      "6              >= --- 0.5582728959352337 --- {1: 37, 3: 35, 2: 5} --- 1\n",
      "7                >= --- 0.5582728959352337 --- {1: 37, 3: 35, 2: 5} --- 1\n",
      "8                  >= --- 0.5582728959352337 --- {1: 37, 3: 35, 2: 5} --- 1\n",
      "['0: 1 1', '1: 3 1', '2: 2 1', '3: 1 1', '4: 2 2', '5: 2 1', '6: 1 1', '7: 3 1', '8: 2 2', '9: 2 2', '10: 3 1', '11: 3 1', '12: 1 1', '13: 2 1', '14: 3 1', '15: 2 2', '16: 1 1', '17: 1 1', '18: 2 1', '19: 1 1', '20: 2 1', '21: 1 1', '22: 1 1', '23: 2 2', '24: 2 2', '25: 2 2', '26: 2 1', '27: 2 2', '28: 2 2', '29: 3 1', '30: 1 1', '31: 1 1', '32: 2 2', '33: 1 1', '34: 1 1', '35: 1 1', '36: 3 1', '37: 2 2', '38: 2 2', '39: 3 1', '40: 1 2', '41: 1 1', '42: 2 2', '43: 2 2', '44: 2 2', '45: 1 1', '46: 3 1', '47: 2 2', '48: 3 1', '49: 1 1', '50: 3 1', '51: 3 1', '52: 1 1', '53: 3 1']\n",
      "Accuracy: 0.630\n"
     ]
    }
   ],
   "source": [
    "tree_gini = build_tree(train_wine, gini_index, 8, 1)\n",
    "print_tree(tree_gini)\n",
    "print(\"Accuracy: {:4.3f}\".format(accuracy(tree_gini, test_wine)))"
   ]
  },
  {
   "cell_type": "code",
   "execution_count": null,
   "metadata": {},
   "outputs": [],
   "source": []
  }
 ],
 "metadata": {
  "kernelspec": {
   "display_name": "Python 3",
   "language": "python",
   "name": "python3"
  },
  "language_info": {
   "codemirror_mode": {
    "name": "ipython",
    "version": 3
   },
   "file_extension": ".py",
   "mimetype": "text/x-python",
   "name": "python",
   "nbconvert_exporter": "python",
   "pygments_lexer": "ipython3",
   "version": "3.7.1"
  },
  "latex_envs": {
   "LaTeX_envs_menu_present": true,
   "autoclose": false,
   "autocomplete": true,
   "bibliofile": "biblio.bib",
   "cite_by": "apalike",
   "current_citInitial": 1,
   "eqLabelWithNumbers": true,
   "eqNumInitial": 1,
   "hotkeys": {
    "equation": "Ctrl-E",
    "itemize": "Ctrl-I"
   },
   "labels_anchors": false,
   "latex_user_defs": false,
   "report_style_numbering": false,
   "user_envs_cfg": false
  },
  "toc": {
   "base_numbering": 1,
   "nav_menu": {},
   "number_sections": true,
   "sideBar": true,
   "skip_h1_title": false,
   "title_cell": "Table of Contents",
   "title_sidebar": "Contents",
   "toc_cell": false,
   "toc_position": {},
   "toc_section_display": true,
   "toc_window_display": true
  },
  "varInspector": {
   "cols": {
    "lenName": 16,
    "lenType": 16,
    "lenVar": 40
   },
   "kernels_config": {
    "python": {
     "delete_cmd_postfix": "",
     "delete_cmd_prefix": "del ",
     "library": "var_list.py",
     "varRefreshCmd": "print(var_dic_list())"
    },
    "r": {
     "delete_cmd_postfix": ") ",
     "delete_cmd_prefix": "rm(",
     "library": "var_list.r",
     "varRefreshCmd": "cat(var_dic_list()) "
    }
   },
   "types_to_exclude": [
    "module",
    "function",
    "builtin_function_or_method",
    "instance",
    "_Feature"
   ],
   "window_display": false
  }
 },
 "nbformat": 4,
 "nbformat_minor": 2
}
